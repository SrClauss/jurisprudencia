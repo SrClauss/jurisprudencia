{
 "cells": [
  {
   "cell_type": "code",
   "execution_count": 1,
   "metadata": {},
   "outputs": [
    {
     "name": "stdout",
     "output_type": "stream",
     "text": [
      "[['01/01/2023', '11/01/2023'], ['11/01/2023', '21/01/2023'], ['21/01/2023', '31/01/2023'], ['31/01/2023', '10/02/2023'], ['10/02/2023', '20/02/2023'], ['20/02/2023', '02/03/2023'], ['02/03/2023', '12/03/2023'], ['12/03/2023', '22/03/2023'], ['22/03/2023', '01/04/2023']]\n"
     ]
    }
   ],
   "source": [
    "from selenium import webdriver\n",
    "from tribunais_esaj import esaj\n",
    "from selenium.webdriver.common.by import By\n",
    "from selenium.webdriver.support.ui import WebDriverWait\n",
    "from selenium.webdriver.support import expected_conditions as EC\n",
    "from selenium.webdriver.chrome.options import Options   \n",
    "from common import create_data_range, CRITERIOS_120\n",
    "from selenium.webdriver.common.keys import Keys\n",
    "import concurrent\n",
    "\n"
   ]
  },
  {
   "cell_type": "code",
   "execution_count": 2,
   "metadata": {},
   "outputs": [
    {
     "name": "stdout",
     "output_type": "stream",
     "text": [
      "{'range': ['01/01/2023', '11/01/2023'], 'criterio': '\"Seguro residencial\" OU \"Seguro prestamista\" OU \"Seguro habitacional\" OU \"Correção monetária\" OU \"Juros abusivos\"', 'result': '0'}\n",
      "{'range': ['01/01/2023', '11/01/2023'], 'criterio': '\"Honorários de sucumbencia\" OU \"Taxa selic\" OU \"Seguro de vida\" OU \"Doença preexistente\" OU \"Seguro automóvel\"', 'result': '0'}\n"
     ]
    },
    {
     "ename": "KeyboardInterrupt",
     "evalue": "",
     "output_type": "error",
     "traceback": [
      "\u001b[1;31m---------------------------------------------------------------------------\u001b[0m",
      "\u001b[1;31mKeyboardInterrupt\u001b[0m                         Traceback (most recent call last)",
      "Cell \u001b[1;32mIn[2], line 36\u001b[0m\n\u001b[0;32m     30\u001b[0m \u001b[38;5;28;01mfor\u001b[39;00m criterio \u001b[38;5;129;01min\u001b[39;00m CRITERIOS_120:\n\u001b[0;32m     32\u001b[0m     future \u001b[38;5;241m=\u001b[39m executor\u001b[38;5;241m.\u001b[39msubmit(verifique_paginas, \u001b[38;5;28mrange\u001b[39m, criterio)\n\u001b[0;32m     33\u001b[0m     register \u001b[38;5;241m=\u001b[39m {\n\u001b[0;32m     34\u001b[0m         \u001b[38;5;124m\"\u001b[39m\u001b[38;5;124mrange\u001b[39m\u001b[38;5;124m\"\u001b[39m: \u001b[38;5;28mrange\u001b[39m,\n\u001b[0;32m     35\u001b[0m         \u001b[38;5;124m\"\u001b[39m\u001b[38;5;124mcriterio\u001b[39m\u001b[38;5;124m\"\u001b[39m: criterio,\n\u001b[1;32m---> 36\u001b[0m         \u001b[38;5;124m\"\u001b[39m\u001b[38;5;124mresult\u001b[39m\u001b[38;5;124m\"\u001b[39m: \u001b[43mfuture\u001b[49m\u001b[38;5;241;43m.\u001b[39;49m\u001b[43mresult\u001b[49m\u001b[43m(\u001b[49m\u001b[43m)\u001b[49m\n\u001b[0;32m     37\u001b[0m     }\n\u001b[0;32m     38\u001b[0m     \u001b[38;5;28mprint\u001b[39m(register)\n\u001b[0;32m     39\u001b[0m     data\u001b[38;5;241m.\u001b[39mappend(register)\n",
      "File \u001b[1;32mc:\\Users\\claus\\AppData\\Local\\Programs\\Python\\Python311\\Lib\\concurrent\\futures\\_base.py:451\u001b[0m, in \u001b[0;36mFuture.result\u001b[1;34m(self, timeout)\u001b[0m\n\u001b[0;32m    448\u001b[0m \u001b[38;5;28;01melif\u001b[39;00m \u001b[38;5;28mself\u001b[39m\u001b[38;5;241m.\u001b[39m_state \u001b[38;5;241m==\u001b[39m FINISHED:\n\u001b[0;32m    449\u001b[0m     \u001b[38;5;28;01mreturn\u001b[39;00m \u001b[38;5;28mself\u001b[39m\u001b[38;5;241m.\u001b[39m__get_result()\n\u001b[1;32m--> 451\u001b[0m \u001b[38;5;28;43mself\u001b[39;49m\u001b[38;5;241;43m.\u001b[39;49m\u001b[43m_condition\u001b[49m\u001b[38;5;241;43m.\u001b[39;49m\u001b[43mwait\u001b[49m\u001b[43m(\u001b[49m\u001b[43mtimeout\u001b[49m\u001b[43m)\u001b[49m\n\u001b[0;32m    453\u001b[0m \u001b[38;5;28;01mif\u001b[39;00m \u001b[38;5;28mself\u001b[39m\u001b[38;5;241m.\u001b[39m_state \u001b[38;5;129;01min\u001b[39;00m [CANCELLED, CANCELLED_AND_NOTIFIED]:\n\u001b[0;32m    454\u001b[0m     \u001b[38;5;28;01mraise\u001b[39;00m CancelledError()\n",
      "File \u001b[1;32mc:\\Users\\claus\\AppData\\Local\\Programs\\Python\\Python311\\Lib\\threading.py:320\u001b[0m, in \u001b[0;36mCondition.wait\u001b[1;34m(self, timeout)\u001b[0m\n\u001b[0;32m    318\u001b[0m \u001b[38;5;28;01mtry\u001b[39;00m:    \u001b[38;5;66;03m# restore state no matter what (e.g., KeyboardInterrupt)\u001b[39;00m\n\u001b[0;32m    319\u001b[0m     \u001b[38;5;28;01mif\u001b[39;00m timeout \u001b[38;5;129;01mis\u001b[39;00m \u001b[38;5;28;01mNone\u001b[39;00m:\n\u001b[1;32m--> 320\u001b[0m         \u001b[43mwaiter\u001b[49m\u001b[38;5;241;43m.\u001b[39;49m\u001b[43macquire\u001b[49m\u001b[43m(\u001b[49m\u001b[43m)\u001b[49m\n\u001b[0;32m    321\u001b[0m         gotit \u001b[38;5;241m=\u001b[39m \u001b[38;5;28;01mTrue\u001b[39;00m\n\u001b[0;32m    322\u001b[0m     \u001b[38;5;28;01melse\u001b[39;00m:\n",
      "\u001b[1;31mKeyboardInterrupt\u001b[0m: "
     ]
    }
   ],
   "source": [
    "ranges = create_data_range(\"01/01/2023\", \"10/04/2024\", 10)\n",
    "\n",
    "def verifique_paginas(driver, range):\n",
    "    driver.refresh()\n",
    "    input_inicio = WebDriverWait(driver, 10).until(EC.presence_of_element_located((By.ID, \"dtPublicacaoInicio\"))).find_element(By.TAG_NAME, \"input\")\n",
    "    \n",
    "    \n",
    "    input_inicio.send_keys(Keys.BACKSPACE*10)\n",
    "    input_inicio.send_keys(range[0])\n",
    "\n",
    "\n",
    "\n",
    "    input_final = driver.find_element(By.ID, \"dtPublicacaoFim\").find_element(\n",
    "        By.TAG_NAME, \"input\"\n",
    "    )\n",
    "    input_final.send_keys(Keys.BACKSPACE*10)\n",
    "    input_final.send_keys(range)\n",
    "    button_submit = driver.find_element(By.XPATH, \"//input[@type='submit']\")\n",
    "    button_submit.click()\n",
    "    return driver.find_element(By.ID, \"nomeAba-A\").text\n",
    "    \n",
    "acordoes = []\n",
    "\n",
    "\n",
    "for range in ranges:\n",
    "    print(verifique_paginas(driver, range))\n",
    "    "
   ]
  }
 ],
 "metadata": {
  "kernelspec": {
   "display_name": "Python 3",
   "language": "python",
   "name": "python3"
  },
  "language_info": {
   "codemirror_mode": {
    "name": "ipython",
    "version": 3
   },
   "file_extension": ".py",
   "mimetype": "text/x-python",
   "name": "python",
   "nbconvert_exporter": "python",
   "pygments_lexer": "ipython3",
   "version": "3.11.4"
  }
 },
 "nbformat": 4,
 "nbformat_minor": 2
}
